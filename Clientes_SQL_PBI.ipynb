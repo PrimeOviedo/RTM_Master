{
 "cells": [
  {
   "cell_type": "code",
   "execution_count": 1,
   "id": "ff603ef2-91ec-4c2e-82be-8f4a04ddf97f",
   "metadata": {},
   "outputs": [
    {
     "name": "stdout",
     "output_type": "stream",
     "text": [
      "⏳ Ejecutando consulta...\n"
     ]
    },
    {
     "data": {
      "text/html": [
       "<pre style=\"white-space:pre;overflow-x:auto;line-height:normal;font-family:Menlo,'DejaVu Sans Mono',consolas,'Courier New',monospace\"><span style=\"color: #00ff00; text-decoration-color: #00ff00\">──────────────────────────── </span><span style=\"color: #800080; text-decoration-color: #800080; font-weight: bold\">✅ Transformación guardada como </span><span style=\"color: #800080; text-decoration-color: #800080; font-weight: bold\">'base_clientes_final.csv'</span><span style=\"color: #00ff00; text-decoration-color: #00ff00\"> ────────────────────────────</span>\n",
       "</pre>\n"
      ],
      "text/plain": [
       "\u001b[92m──────────────────────────── \u001b[0m\u001b[1;35m✅ Transformación guardada como \u001b[0m\u001b[1;35m'base_clientes_final.csv'\u001b[0m\u001b[92m ────────────────────────────\u001b[0m\n"
      ]
     },
     "metadata": {},
     "output_type": "display_data"
    },
    {
     "data": {
      "text/html": [
       "<pre style=\"white-space:pre;overflow-x:auto;line-height:normal;font-family:Menlo,'DejaVu Sans Mono',consolas,'Courier New',monospace\"><span style=\"color: #00ff00; text-decoration-color: #00ff00\">─────────────────────────────────────────── </span><span style=\"color: #000080; text-decoration-color: #000080; font-weight: bold\">📊 Resumen de la ejecución</span><span style=\"color: #00ff00; text-decoration-color: #00ff00\"> ────────────────────────────────────────────</span>\n",
       "</pre>\n"
      ],
      "text/plain": [
       "\u001b[92m─────────────────────────────────────────── \u001b[0m\u001b[1;34m📊 Resumen de la ejecución\u001b[0m\u001b[92m ────────────────────────────────────────────\u001b[0m\n"
      ]
     },
     "metadata": {},
     "output_type": "display_data"
    },
    {
     "data": {
      "text/html": [
       "<pre style=\"white-space:pre;overflow-x:auto;line-height:normal;font-family:Menlo,'DejaVu Sans Mono',consolas,'Courier New',monospace\">🕒 Tiempo de ejecución total: <span style=\"color: #008000; text-decoration-color: #008000; font-weight: bold\">00:18:03</span>\n",
       "</pre>\n"
      ],
      "text/plain": [
       "🕒 Tiempo de ejecución total: \u001b[1;32m00:18:03\u001b[0m\n"
      ]
     },
     "metadata": {},
     "output_type": "display_data"
    },
    {
     "data": {
      "text/html": [
       "<pre style=\"white-space:pre;overflow-x:auto;line-height:normal;font-family:Menlo,'DejaVu Sans Mono',consolas,'Courier New',monospace\">📈 Filas totales: <span style=\"color: #008080; text-decoration-color: #008080; font-weight: bold\">807</span><span style=\"color: #008080; text-decoration-color: #008080; font-weight: bold\">,</span><span style=\"color: #008080; text-decoration-color: #008080; font-weight: bold\">237</span>\n",
       "</pre>\n"
      ],
      "text/plain": [
       "📈 Filas totales: \u001b[1;36m807\u001b[0m\u001b[1;36m,\u001b[0m\u001b[1;36m237\u001b[0m\n"
      ]
     },
     "metadata": {},
     "output_type": "display_data"
    },
    {
     "data": {
      "text/html": [
       "<pre style=\"white-space:pre;overflow-x:auto;line-height:normal;font-family:Menlo,'DejaVu Sans Mono',consolas,'Courier New',monospace\"><span style=\"color: #808000; text-decoration-color: #808000; font-weight: bold\">🔢 Suma total por medida:</span>\n",
       "</pre>\n"
      ],
      "text/plain": [
       "\u001b[1;33m🔢 Suma total por medida:\u001b[0m\n"
      ]
     },
     "metadata": {},
     "output_type": "display_data"
    },
    {
     "data": {
      "text/html": [
       "<pre style=\"white-space:pre;overflow-x:auto;line-height:normal;font-family:Menlo,'DejaVu Sans Mono',consolas,'Courier New',monospace\"><span style=\"color: #c0c0c0; text-decoration-color: #c0c0c0; font-weight: bold\">ID_SAP</span>: <span style=\"color: #008000; text-decoration-color: #008000; font-weight: bold\">478</span><span style=\"color: #008000; text-decoration-color: #008000; font-weight: bold\">,</span><span style=\"color: #008000; text-decoration-color: #008000; font-weight: bold\">163</span><span style=\"color: #008000; text-decoration-color: #008000; font-weight: bold\">,</span><span style=\"color: #008000; text-decoration-color: #008000; font-weight: bold\">318</span><span style=\"color: #008000; text-decoration-color: #008000; font-weight: bold\">,</span><span style=\"color: #008000; text-decoration-color: #008000; font-weight: bold\">004</span><span style=\"color: #008000; text-decoration-color: #008000; font-weight: bold\">,</span><span style=\"color: #008000; text-decoration-color: #008000; font-weight: bold\">899.00</span>\n",
       "</pre>\n"
      ],
      "text/plain": [
       "\u001b[1;37mID_SAP\u001b[0m: \u001b[1;32m478\u001b[0m\u001b[1;32m,\u001b[0m\u001b[1;32m163\u001b[0m\u001b[1;32m,\u001b[0m\u001b[1;32m318\u001b[0m\u001b[1;32m,\u001b[0m\u001b[1;32m004\u001b[0m\u001b[1;32m,\u001b[0m\u001b[1;32m899.00\u001b[0m\n"
      ]
     },
     "metadata": {},
     "output_type": "display_data"
    }
   ],
   "source": [
    "import pandas as pd\n",
    "from sqlalchemy import create_engine\n",
    "import urllib\n",
    "from rich.console import Console\n",
    "import time\n",
    "\n",
    "# Inicia contador de tiempo\n",
    "start_time = time.time()\n",
    "console = Console()\n",
    "\n",
    "# 🔐 Parámetros de conexión\n",
    "server = 'KOFMXAZMND01'\n",
    "database = 'DATAKOF_MX_USERS'\n",
    "\n",
    "# 🧩 Cadena de conexión para autenticación por Windows\n",
    "params = urllib.parse.quote_plus(\n",
    "    f\"DRIVER=ODBC Driver 17 for SQL Server;\"\n",
    "    f\"SERVER={server};\"\n",
    "    f\"DATABASE={database};\"\n",
    "    f\"Trusted_Connection=yes;\"\n",
    ")\n",
    "\n",
    "# 🎯 Crear conexión con SQLAlchemy\n",
    "engine = create_engine(f\"mssql+pyodbc:///?odbc_connect={params}\")\n",
    "\n",
    "# 📥 Consulta SQL\n",
    "query = \"\"\"\n",
    "SELECT DISTINCT\n",
    "        c.[Num_Cliente] AS ID_SAP,\n",
    "        c.[NombreCliente] AS NOMBRE,\n",
    "        c.[Cadena] AS CADENA,\n",
    "        c.[Coord_X] AS LONGITUD,\n",
    "        c.[DescGEC] AS GEC_SAP,\n",
    "        c.[Coord_Y] AS LATITUD,\n",
    "        c.[ModalidadVentas] AS MODALIDAD,\n",
    "        c.[Descripción Estado] AS ZONA,\n",
    "        c.[Zona Ventas   U O ] AS UO,\n",
    "        c2.[_NIVEL_ESTRATEGICO_1] AS CANAL,\n",
    "        c2.[_NIVEL_ESTRATEGICO_2] AS GRUPO_RM1,\n",
    "        c2.[_NIVEL_ESTRATEGICO_3] AS NIVEL_ESTRATEGICO,\n",
    "        c2.[CANAL_KOF] AS CANAL_KOF_KEY,\n",
    "        c2.[CANAL_KOF_DESC] AS CANAL_KOF_DESC,\n",
    "        c2.[GRUPO_CANAL_DESC] AS GRUPO_CANAL_SAP,\n",
    "        ZPV.[MétodoVenta] AS MTDO_VTA_ZPV,\n",
    "        ZPV.[Ruta] AS RUTA_ZPV,\n",
    "        ZPV.[Frecuencia de Visita] AS FV_ZPV,\n",
    "        ZPV.[Ritmo] AS RITMO_ZPV,\n",
    "        ZTK.[MétodoVenta] AS MTDO_VTA_ZTK,\n",
    "        ZTK.[Ruta] AS RUTA_ZTK,\n",
    "        ZTK.[Frecuencia de Visita] AS FV_ZTK,\n",
    "        ZTK.[Ritmo] AS RITMO_ZTK,\n",
    "        ZJV.[MétodoVenta] AS MTDO_VTA_ZJV,\n",
    "        ZJV.[Ruta] AS RUTA_ZJV,\n",
    "        ZJV.[Frecuencia de Visita] AS FV_ZJV,\n",
    "        ZJV.[Ritmo] AS RITMO_ZJV,\n",
    "        c.[Centro Suministro] AS CENTRO_SUMINISTRO,\n",
    "        c.[ZonaTransporte] AS RUTA_REPARTO\n",
    "FROM \n",
    "    [DATAKOF_MX_USERS].[kof].[MEX_KOF_SAP_CLIENTE_FULL] c\n",
    "    LEFT JOIN [DATAKOF_MX_USERS].[kof].[MEX_KOF_SAP_CLIENTE_FULL] ZPV\n",
    "        ON c.[Num_Cliente] = ZPV.[Num_Cliente]\n",
    "        AND ZPV.[Tipo Plan de Visita] = 'ZPV'\n",
    "        AND ZPV.[Estatus del Cliente] NOT IN ('B','L')\n",
    "    LEFT JOIN [DATAKOF_MX_USERS].[kof].[MEX_KOF_SAP_CLIENTE_FULL] ZJV\n",
    "        ON c.[Num_Cliente] = ZJV.[Num_Cliente]\n",
    "        AND ZJV.[Tipo Plan de Visita] = 'ZJV'\n",
    "        AND ZJV.[Estatus del Cliente] NOT IN ('B','L')\n",
    "    LEFT JOIN [DATAKOF_MX_USERS].[kof].[MEX_KOF_SAP_CLIENTE_FULL] ZTK\n",
    "        ON c.[Num_Cliente] = ZTK.[Num_Cliente]\n",
    "        AND ZTK.[Tipo Plan de Visita] = 'ZTK'\n",
    "        AND ZTK.[Estatus del Cliente] NOT IN ('B','L')\n",
    "    LEFT JOIN [kof].[MEX_KOF_SAP_DIM_CLIENTE] c2\n",
    "        ON c.[Num_Cliente] = c2.[CLIENTE]\n",
    "WHERE \n",
    "    c.[Tipo Plan de Visita] IN ('ZPV', 'ZJV', 'ZTK')\n",
    "    AND c.[Estatus del Cliente] NOT IN ('B','L')\n",
    "ORDER BY c.[Num_Cliente]\n",
    "\"\"\"\n",
    "\n",
    "# 🧪 Ejecutar la consulta\n",
    "print(\"⏳ Ejecutando consulta...\")\n",
    "df_clientes = pd.read_sql(query, engine)\n",
    "\n",
    "# Línea decorativa de cierre\n",
    "console.rule(\"[bold magenta]✅ Transformación guardada como 'base_clientes_final.csv'\")\n",
    "\n",
    "# Calcular tiempo de ejecución\n",
    "elapsed_time = time.time() - start_time\n",
    "formatted_time = time.strftime(\"%H:%M:%S\", time.gmtime(elapsed_time))\n",
    "\n",
    "# Mostrar resumen\n",
    "console.rule(\"[bold blue]📊 Resumen de la ejecución\")\n",
    "console.print(f\"🕒 Tiempo de ejecución total: [bold green]{formatted_time}[/bold green]\")\n",
    "console.print(f\"📈 Filas totales: [bold cyan]{len(df_clientes):,}[/bold cyan]\")\n"
   ]
  },
  {
   "cell_type": "code",
   "execution_count": 2,
   "id": "c766a664-e8b3-4a8c-8f77-c2a032c7bb36",
   "metadata": {},
   "outputs": [
    {
     "name": "stdout",
     "output_type": "stream",
     "text": [
      "        ID_SAP               NOMBRE CADENA          LONGITUD GEC_SAP  \\\n",
      "0  100000195.0          ABTS LOLITA   9999  -99.064707000000     ORO   \n",
      "1  100000204.0     ABTS SUPER MARIO   9999  -99.035621666667     ORO   \n",
      "2  100000205.0             LOCAL 33   9999  -99.056411666667     ORO   \n",
      "3  100000206.0  ABTS GANU MEZQUITAL   9999  -99.050032850000     ORO   \n",
      "4  100000208.0           ABTS OASIS   9999  -99.059125000000  BRONCE   \n",
      "\n",
      "           LATITUD MODALIDAD          ZONA      UO        CANAL  ...  \\\n",
      "0  19.492514800000        KD  VDM Poniente  MR0025  Tradicional  ...   \n",
      "1  19.502573333333        KG  VDM Poniente  MR0022  Tradicional  ...   \n",
      "2  19.491526666667        KD  VDM Poniente  MR0025  Tradicional  ...   \n",
      "3  19.489654860000        KD  VDM Poniente  MR0025  Tradicional  ...   \n",
      "4  19.492776666667        KG  VDM Poniente  MR0025  Tradicional  ...   \n",
      "\n",
      "  MTDO_VTA_ZTK RUTA_ZTK FV_ZTK RITMO_ZTK MTDO_VTA_ZJV RUTA_ZJV FV_ZJV  \\\n",
      "0          1DA   TEWA13    MJS        01          1DA   TEF102      M   \n",
      "1          1DA   CCWA30    MJS        01         None     None   None   \n",
      "2          1DA   TEWA06    MJS        01          1DA   TEF102      M   \n",
      "3          1DA   TEWA06    MJS        01          1DA   TEF101      J   \n",
      "4          1DA   TEWA13      J        01         None     None   None   \n",
      "\n",
      "  RITMO_ZJV CENTRO_SUMINISTRO RUTA_REPARTO  \n",
      "0        01              MFAN       RTE401  \n",
      "1      None              MFAJ       RCCW01  \n",
      "2        01              MFAN       RTE315  \n",
      "3        01              MFAN       RTE315  \n",
      "4      None              MFAN       RTE404  \n",
      "\n",
      "[5 rows x 29 columns]\n"
     ]
    }
   ],
   "source": [
    "print(df_clientes.head())"
   ]
  },
  {
   "cell_type": "code",
   "execution_count": 3,
   "id": "c71cc36d-38c0-4145-9a8e-7b3c33503d48",
   "metadata": {},
   "outputs": [
    {
     "name": "stdout",
     "output_type": "stream",
     "text": [
      "<class 'pandas.core.frame.DataFrame'>\n",
      "RangeIndex: 807237 entries, 0 to 807236\n",
      "Data columns (total 29 columns):\n",
      " #   Column             Non-Null Count   Dtype  \n",
      "---  ------             --------------   -----  \n",
      " 0   ID_SAP             807237 non-null  float64\n",
      " 1   NOMBRE             807237 non-null  object \n",
      " 2   CADENA             807236 non-null  object \n",
      " 3   LONGITUD           807237 non-null  object \n",
      " 4   GEC_SAP            807237 non-null  object \n",
      " 5   LATITUD            807237 non-null  object \n",
      " 6   MODALIDAD          807237 non-null  object \n",
      " 7   ZONA               807237 non-null  object \n",
      " 8   UO                 807237 non-null  object \n",
      " 9   CANAL              807237 non-null  object \n",
      " 10  GRUPO_RM1          807237 non-null  object \n",
      " 11  NIVEL_ESTRATEGICO  807237 non-null  object \n",
      " 12  CANAL_KOF_KEY      807237 non-null  object \n",
      " 13  CANAL_KOF_DESC     807237 non-null  object \n",
      " 14  GRUPO_CANAL_SAP    807237 non-null  object \n",
      " 15  MTDO_VTA_ZPV       804257 non-null  object \n",
      " 16  RUTA_ZPV           804275 non-null  object \n",
      " 17  FV_ZPV             804265 non-null  object \n",
      " 18  RITMO_ZPV          804265 non-null  object \n",
      " 19  MTDO_VTA_ZTK       758902 non-null  object \n",
      " 20  RUTA_ZTK           758970 non-null  object \n",
      " 21  FV_ZTK             758962 non-null  object \n",
      " 22  RITMO_ZTK          758963 non-null  object \n",
      " 23  MTDO_VTA_ZJV       69669 non-null   object \n",
      " 24  RUTA_ZJV           69669 non-null   object \n",
      " 25  FV_ZJV             69669 non-null   object \n",
      " 26  RITMO_ZJV          69669 non-null   object \n",
      " 27  CENTRO_SUMINISTRO  807237 non-null  object \n",
      " 28  RUTA_REPARTO       807237 non-null  object \n",
      "dtypes: float64(1), object(28)\n",
      "memory usage: 178.6+ MB\n"
     ]
    }
   ],
   "source": [
    "df_clientes.info()"
   ]
  },
  {
   "cell_type": "code",
   "execution_count": 4,
   "id": "0ece1b98-e2b8-43c8-b33a-c25c74415d9a",
   "metadata": {},
   "outputs": [
    {
     "name": "stdout",
     "output_type": "stream",
     "text": [
      "<class 'pandas.core.frame.DataFrame'>\n",
      "RangeIndex: 807237 entries, 0 to 807236\n",
      "Data columns (total 50 columns):\n",
      " #   Column             Non-Null Count   Dtype  \n",
      "---  ------             --------------   -----  \n",
      " 0   ID_SAP             807237 non-null  float64\n",
      " 1   NOMBRE             807237 non-null  object \n",
      " 2   CADENA             807236 non-null  object \n",
      " 3   LONGITUD           807237 non-null  object \n",
      " 4   GEC_SAP            807237 non-null  object \n",
      " 5   LATITUD            807237 non-null  object \n",
      " 6   MODALIDAD          807237 non-null  object \n",
      " 7   ZONA               807237 non-null  object \n",
      " 8   UO                 807237 non-null  object \n",
      " 9   CANAL              807237 non-null  object \n",
      " 10  GRUPO_RM1          807237 non-null  object \n",
      " 11  NIVEL_ESTRATEGICO  807237 non-null  object \n",
      " 12  CANAL_KOF_KEY      807237 non-null  object \n",
      " 13  CANAL_KOF_DESC     807237 non-null  object \n",
      " 14  GRUPO_CANAL_SAP    807237 non-null  object \n",
      " 15  MTDO_VTA_ZPV       804257 non-null  object \n",
      " 16  RUTA_ZPV           804275 non-null  object \n",
      " 17  FV_ZPV             804265 non-null  object \n",
      " 18  L ZPV              807237 non-null  int64  \n",
      " 19  M ZPV              807237 non-null  int64  \n",
      " 20  R ZPV              807237 non-null  int64  \n",
      " 21  J ZPV              807237 non-null  int64  \n",
      " 22  V ZPV              807237 non-null  int64  \n",
      " 23  S ZPV              807237 non-null  int64  \n",
      " 24  D ZPV              807237 non-null  int64  \n",
      " 25  RITMO_ZPV          804265 non-null  object \n",
      " 26  MTDO_VTA_ZTK       758902 non-null  object \n",
      " 27  RUTA_ZTK           758970 non-null  object \n",
      " 28  FV_ZTK             758962 non-null  object \n",
      " 29  L ZTK              807237 non-null  int64  \n",
      " 30  M ZTK              807237 non-null  int64  \n",
      " 31  R ZTK              807237 non-null  int64  \n",
      " 32  J ZTK              807237 non-null  int64  \n",
      " 33  V ZTK              807237 non-null  int64  \n",
      " 34  S ZTK              807237 non-null  int64  \n",
      " 35  D ZTK              807237 non-null  int64  \n",
      " 36  RITMO_ZTK          758963 non-null  object \n",
      " 37  MTDO_VTA_ZJV       69669 non-null   object \n",
      " 38  RUTA_ZJV           69669 non-null   object \n",
      " 39  FV_ZJV             69669 non-null   object \n",
      " 40  L ZJV              807237 non-null  int64  \n",
      " 41  M ZJV              807237 non-null  int64  \n",
      " 42  R ZJV              807237 non-null  int64  \n",
      " 43  J ZJV              807237 non-null  int64  \n",
      " 44  V ZJV              807237 non-null  int64  \n",
      " 45  S ZJV              807237 non-null  int64  \n",
      " 46  D ZJV              807237 non-null  int64  \n",
      " 47  RITMO_ZJV          69669 non-null   object \n",
      " 48  CENTRO_SUMINISTRO  807237 non-null  object \n",
      " 49  RUTA_REPARTO       807237 non-null  object \n",
      "dtypes: float64(1), int64(21), object(28)\n",
      "memory usage: 307.9+ MB\n"
     ]
    }
   ],
   "source": [
    "# Días de la semana\n",
    "dias_semana = ['L', 'M', 'R', 'J', 'V', 'S', 'D']\n",
    "\n",
    "# Columnas FV por TPV\n",
    "columnas_fv = [col for col in df_clientes.columns if col.startswith('FV')]\n",
    "\n",
    "# Insertar columnas nuevas justo después de cada columna Fv\n",
    "for col_fv in columnas_fv:\n",
    "    tpv = col_fv.split('_')[1]  # Ej. 'ZGC'\n",
    "    \n",
    "    # Generar nuevas columnas\n",
    "    nuevas_columnas = {}\n",
    "    for dia in dias_semana:\n",
    "        nueva_col = f'{dia} {tpv}'\n",
    "        nuevas_columnas[nueva_col] = df_clientes[col_fv].apply(lambda x: 1 if dia in str(x) else 0)\n",
    "    \n",
    "    # Encontrar la posición donde está la columna 'Fv <TPV>'\n",
    "    idx = df_clientes.columns.get_loc(col_fv) + 1\n",
    "    \n",
    "    # Insertar las columnas en esa posición\n",
    "    for i, (col_name, serie) in enumerate(nuevas_columnas.items()):\n",
    "        df_clientes.insert(loc=idx + i, column=col_name, value=serie)\n",
    "\n",
    "df_clientes.info()\n"
   ]
  },
  {
   "cell_type": "code",
   "execution_count": null,
   "id": "f189f5c3-960b-4a31-92f1-42372981eb0b",
   "metadata": {},
   "outputs": [],
   "source": []
  },
  {
   "cell_type": "code",
   "execution_count": null,
   "id": "49379463-82d1-4215-8b10-b10794db1192",
   "metadata": {},
   "outputs": [],
   "source": []
  },
  {
   "cell_type": "code",
   "execution_count": null,
   "id": "fbb549ee-667c-45f2-ba19-78046025359e",
   "metadata": {},
   "outputs": [],
   "source": []
  }
 ],
 "metadata": {
  "kernelspec": {
   "display_name": "Python 3 (ipykernel)",
   "language": "python",
   "name": "python3"
  },
  "language_info": {
   "codemirror_mode": {
    "name": "ipython",
    "version": 3
   },
   "file_extension": ".py",
   "mimetype": "text/x-python",
   "name": "python",
   "nbconvert_exporter": "python",
   "pygments_lexer": "ipython3",
   "version": "3.12.10"
  }
 },
 "nbformat": 4,
 "nbformat_minor": 5
}
