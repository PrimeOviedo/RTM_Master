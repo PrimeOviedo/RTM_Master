{
 "cells": [
  {
   "cell_type": "code",
   "execution_count": 1,
   "id": "fbc121e30a2defb3",
   "metadata": {
    "ExecuteTime": {
     "end_time": "2025-05-15T18:30:42.924142Z",
     "start_time": "2025-05-15T18:30:42.921844Z"
    }
   },
   "outputs": [],
   "source": [
    "import pandas as pd\n",
    "import numpy as np"
   ]
  },
  {
   "cell_type": "code",
   "execution_count": 2,
   "id": "5ec85c14e4be8cd4",
   "metadata": {
    "ExecuteTime": {
     "end_time": "2025-05-15T18:30:43.205316Z",
     "start_time": "2025-05-15T18:30:42.934211Z"
    }
   },
   "outputs": [
    {
     "name": "stdout",
     "output_type": "stream",
     "text": [
      "Archivo cs_2.csv no encontrado. Se omitirá.\n",
      "Archivo cs_3.csv no encontrado. Se omitirá.\n"
     ]
    },
    {
     "name": "stderr",
     "output_type": "stream",
     "text": [
      "C:\\Users\\MX05081363\\AppData\\Local\\Temp\\ipykernel_3792\\2941871090.py:32: DtypeWarning: Columns (2) have mixed types. Specify dtype option on import or set low_memory=False.\n",
      "  df_gec = pd.read_csv('Catalogo_GEC_RTM.csv')\n"
     ]
    }
   ],
   "source": [
    "#Catálogos de OrderEntry y Reparto\n",
    "\n",
    "UO = 'MR0041'\n",
    "CS1 = 'MJCG'\n",
    "CS2 = ''\n",
    "CS3 = ''\n",
    "\n",
    "cat_oe = pd.read_csv('Catalogo_OE.csv')\n",
    "cat_rep = pd.read_csv('Catalogo_Reparto.csv')\n",
    "\n",
    "#Base de datos Clientes SQL\n",
    "planner = pd.read_csv('Planner_{}.csv'.format(UO))\n",
    "\n",
    "#Bases de datos Greenmile\n",
    "cs_1 = pd.read_csv('{}.csv'.format(CS1),encoding='latin-1')\n",
    "\n",
    "try:\n",
    "    cs_2 = pd.read_csv('{}.csv'.format(CS2), encoding='latin-1')\n",
    "except FileNotFoundError:\n",
    "    print(\"Archivo cs_2.csv no encontrado. Se omitirá.\")\n",
    "    cs_2 = pd.DataFrame()\n",
    "\n",
    "try:\n",
    "    cs_3 = pd.read_csv('{}.csv'.format(CS3), encoding='latin-1')\n",
    "except FileNotFoundError:\n",
    "    print(\"Archivo cs_3.csv no encontrado. Se omitirá.\")\n",
    "    cs_3 = pd.DataFrame()\n",
    "\n",
    "greenmile = pd.concat([cs_1,cs_2,cs_3], ignore_index=True)\n",
    "\n",
    "#Base de GEC RTM\n",
    "df_gec = pd.read_csv('Catalogo_GEC_RTM.csv')"
   ]
  },
  {
   "cell_type": "code",
   "execution_count": 3,
   "id": "3bb6da487d7ff7cb",
   "metadata": {
    "ExecuteTime": {
     "end_time": "2025-05-15T18:30:43.235037Z",
     "start_time": "2025-05-15T18:30:43.228341Z"
    }
   },
   "outputs": [],
   "source": [
    "# Seleccionar y renombrar columnas relevantes\n",
    "greenmile = greenmile[['CÃ³digo de la UbicaciÃ³n', 'Longitud', 'Latitud', 'OrganizaciÃ³n']].copy()\n",
    "greenmile.columns = ['Cliente GM', 'Longitud GM', 'Latitud GM', 'UO GM']\n",
    "\n",
    "# Rellenar valores nulos en coordenadas con 0\n",
    "greenmile['Longitud GM'] = greenmile['Longitud GM'].fillna(0)\n",
    "greenmile['Latitud GM'] = greenmile['Latitud GM'].fillna(0)\n",
    "\n",
    "# Convertir 'Cliente' a numérico, eliminando filas con errores\n",
    "greenmile['Cliente GM'] = pd.to_numeric(greenmile['Cliente GM'], errors='coerce')\n",
    "greenmile = greenmile.dropna(subset=['Cliente GM'])\n",
    "greenmile['Cliente GM'] = greenmile['Cliente GM'].astype(int)\n",
    "\n",
    "greenmile = greenmile.drop_duplicates(subset='Cliente GM', keep='first')"
   ]
  },
  {
   "cell_type": "code",
   "execution_count": 4,
   "id": "3c01bb3f83156bbf",
   "metadata": {
    "ExecuteTime": {
     "end_time": "2025-05-15T18:30:43.307065Z",
     "start_time": "2025-05-15T18:30:43.254024Z"
    }
   },
   "outputs": [],
   "source": [
    "planner['DIRECCIÓN'] = planner['DIRECCIÓN'].fillna('DESCONOCIDO')\n",
    "planner['ENTRE_CALLE_1'] = planner['ENTRE_CALLE_1'].fillna('DESCONOCIDO')\n",
    "planner['ENTRE_CALLE_2'] = planner['ENTRE_CALLE_2'].fillna('DESCONOCIDO')\n",
    "planner['DELEGACION_MUNICIPIO'] = planner['DELEGACION_MUNICIPIO'].fillna('DESCONOCIDO')\n",
    "planner['ID_VP'] = planner['ID_VP'].fillna('SIN VP')\n",
    "planner['MODALIDAD'] = planner['MODALIDAD'].fillna('NO DATA')\n",
    "planner['TPV'] = planner['TPV'].fillna('NO DATA')\n",
    "planner['RUTA'] = planner['RUTA'].fillna('NO DATA')\n",
    "planner['FV'] = planner['FV'].fillna('NO DATA')\n",
    "planner['RITMO'] = planner['RITMO'].fillna('NO DATA')\n",
    "planner['MÉTODO_VENTA'] = planner['MÉTODO_VENTA'].fillna('NO DATA')\n",
    "planner['ID_MULTICENTRO'] = planner['ID_MULTICENTRO'].fillna('NO ASIGNADO')\n",
    "\n",
    "df_gec_renamed = df_gec.rename(columns={'CLIENTE': 'ID_SAP'})\n",
    "planner = pd.merge(planner, right=df_gec_renamed, how='left', on='ID_SAP')\n",
    "\n",
    "# Rellenamos los valores faltantes del GEC nuevo (por ejemplo, GEC_RTM) con el GEC anterior\n",
    "planner['GEC_RTM'] = planner['GEC_RTM'].fillna(planner['GEC_SAP'])\n",
    "\n"
   ]
  },
  {
   "cell_type": "code",
   "execution_count": 5,
   "id": "7fcd380ebef0ee0c",
   "metadata": {
    "ExecuteTime": {
     "end_time": "2025-05-15T18:30:43.389170Z",
     "start_time": "2025-05-15T18:30:43.325138Z"
    }
   },
   "outputs": [],
   "source": [
    "columnas_basicas = [\n",
    "    'ID_SAP', 'CLIENTE', 'FECHA_ALTA', 'DIRECCIÓN', 'ENTRE_CALLE_1', 'ENTRE_CALLE_2','COLONIA',\n",
    "    'DELEGACION_MUNICIPIO', 'CODIGO_POSTAL', 'ESTATUS', 'ID_VP', 'MODALIDAD',\n",
    "    'GEC_SAP','GEC_RTM','_MADUREZ_CTE','Estatus_Cte', 'CADENA', 'DESC_CADENA','CANAL_KOF','CANAL_SAP', 'GRUPO_RM1', 'GRUPO_RM2',\n",
    "    'ZONA', 'REGIÓN', 'REGIÓN_KOF_CVE', 'UO', 'CENTRO','GERENCIA','JEFATURA',\n",
    "    'CENTRO_SUMINISTRO','CONDICIÓN_EXPEDICIÓN','TIPO_SERVICIO','ID_MULTICENTRO', 'COORD_X', 'COORD_Y'\n",
    "]\n",
    "columnas_tpv = ['ID_SAP', 'TPV', 'RUTA', 'FV', 'RITMO', 'MÉTODO_VENTA']\n",
    "df_tpv = planner[columnas_tpv]\n",
    "df_basico = planner[columnas_basicas].drop_duplicates(subset='ID_SAP')\n",
    "\n",
    "df_basico = df_basico.drop_duplicates(subset='ID_SAP')\n",
    "\n",
    "# Pivot con múltiples valores\n",
    "df_pivot = df_tpv.pivot_table(index='ID_SAP',\n",
    "                          columns='TPV',\n",
    "                          values=['RUTA', 'FV', 'RITMO', 'MÉTODO_VENTA'],\n",
    "                          aggfunc='first')\n",
    "\n",
    "# Aplanar columnas\n",
    "df_pivot.columns = [f'{col[0].capitalize()} {col[1]}' for col in df_pivot.columns]\n",
    "\n",
    " # Reordenar columnas por TPV preferido\n",
    "tpv_preferido = ['ZPV', 'ZTK', 'ZJV','ZTV','ZGH','ZGC','ZGF','ZPG','ZTJ','ZED','ZIV','ZDD','ZGC','ZHB','ZTF','ZVE','ZVS','ZDY']\n",
    "columnas_validas = [col for col in df_pivot.columns if ' ' in col]\n",
    "tpvs_encontrados = {col.split(' ')[1] for col in columnas_validas}\n",
    "otros_tpv = sorted(tpvs_encontrados - set(tpv_preferido))\n",
    "nuevo_orden = tpv_preferido + otros_tpv\n",
    "\n",
    " # Variables esperadas\n",
    "variables = ['Ruta', 'Fv', 'Ritmo', 'Método_venta']\n",
    "orden_columnas = []\n",
    "for tpv in nuevo_orden:\n",
    "    for var in variables:\n",
    "        col_name = f'{var} {tpv}'\n",
    "        if col_name in df_pivot.columns:\n",
    "            orden_columnas.append(col_name)\n",
    "\n",
    "df_pivot = df_pivot[orden_columnas]\n",
    "df_pivot = df_pivot.reset_index()\n",
    "\n",
    "df_pivot = df_pivot.drop_duplicates(subset='ID_SAP')\n",
    "\n",
    "# Reemplazar NaN con guion medio\n",
    "df_pivot = df_pivot.fillna('-')\n",
    "\n",
    "df_pivot = df_pivot.drop_duplicates(subset='ID_SAP')\n",
    "df_basico = df_basico.drop_duplicates(subset='ID_SAP')\n",
    "\n",
    "# Unir datos básicos con pivot\n",
    "df_final = pd.merge(df_basico, df_pivot, on='ID_SAP', how='left')\n",
    "\n",
    "assert df_final['ID_SAP'].is_unique, \"¡Aún hay duplicados en ID_SAP antes del merge con Greenmile!\""
   ]
  },
  {
   "cell_type": "code",
   "execution_count": 6,
   "id": "c437eb8ac84a10bb",
   "metadata": {
    "ExecuteTime": {
     "end_time": "2025-05-15T18:30:43.420866Z",
     "start_time": "2025-05-15T18:30:43.407305Z"
    }
   },
   "outputs": [
    {
     "name": "stdout",
     "output_type": "stream",
     "text": [
      "Empty DataFrame\n",
      "Columns: [Cliente GM, Longitud GM, Latitud GM, UO GM]\n",
      "Index: []\n",
      "Total de duplicados: 0\n"
     ]
    }
   ],
   "source": [
    "df_coordenadas = pd.merge(left = df_final, right = greenmile, how = 'left', left_on = 'ID_SAP', right_on = 'Cliente GM')\n",
    "\n",
    "df_coordenadas.drop(columns = ['Cliente GM','UO GM'], inplace = True)\n",
    "\n",
    "duplicados_gm = greenmile[greenmile.duplicated(subset='Cliente GM', keep=False)]\n",
    "print(duplicados_gm.sort_values('Cliente GM'))\n",
    "print(f'Total de duplicados: {duplicados_gm[\"Cliente GM\"].nunique()}')\n",
    "\n",
    "assert df_coordenadas['ID_SAP'].is_unique, \"¡Aún hay duplicados en ID_SAP!\""
   ]
  },
  {
   "cell_type": "code",
   "execution_count": 7,
   "id": "ff4ead09361926a4",
   "metadata": {
    "ExecuteTime": {
     "end_time": "2025-05-15T18:30:43.445035Z",
     "start_time": "2025-05-15T18:30:43.441257Z"
    }
   },
   "outputs": [],
   "source": [
    "# Crear la nueva columna \"Latitud Final\" en el DataFrame df_coordenadas\n",
    "df_coordenadas['Latitud Final'] = np.where(\n",
    "    (df_coordenadas['Latitud GM'] == 0) | (df_coordenadas['Latitud GM'].isna()),\n",
    "    df_coordenadas['COORD_Y'],\n",
    "    df_coordenadas['Latitud GM']\n",
    ")\n",
    "\n",
    "# Crear la nueva columna \"Latitud Final\" en el DataFrame df_coordenadas\n",
    "df_coordenadas['Longitud Final'] = np.where(\n",
    "    (df_coordenadas['Longitud GM'] == 0) | (df_coordenadas['Longitud GM'].isna()),\n",
    "    df_coordenadas['COORD_X'],\n",
    "    df_coordenadas['Longitud GM']\n",
    ")"
   ]
  },
  {
   "cell_type": "code",
   "execution_count": 8,
   "id": "e9a1c1b5aaa3022",
   "metadata": {
    "ExecuteTime": {
     "end_time": "2025-05-15T18:30:43.470828Z",
     "start_time": "2025-05-15T18:30:43.465801Z"
    }
   },
   "outputs": [],
   "source": [
    "df_coordenadas.drop(columns = ['Latitud GM','Longitud GM','COORD_Y','COORD_X'], inplace = True)"
   ]
  },
  {
   "cell_type": "code",
   "execution_count": 9,
   "id": "7e316a80aa9492b3",
   "metadata": {
    "ExecuteTime": {
     "end_time": "2025-05-15T18:30:43.494595Z",
     "start_time": "2025-05-15T18:30:43.490222Z"
    }
   },
   "outputs": [
    {
     "name": "stdout",
     "output_type": "stream",
     "text": [
      "<class 'pandas.core.frame.DataFrame'>\n",
      "RangeIndex: 8701 entries, 0 to 8700\n",
      "Data columns (total 3 columns):\n",
      " #   Column            Non-Null Count  Dtype \n",
      "---  ------            --------------  ----- \n",
      " 0   Ruta              8701 non-null   object\n",
      " 1   Tipo              8686 non-null   object\n",
      " 2   Descripción Tipo  8698 non-null   object\n",
      "dtypes: object(3)\n",
      "memory usage: 204.1+ KB\n"
     ]
    }
   ],
   "source": [
    "cat_oe = cat_oe[['Ruta','Tipo','Descripción Tipo']].copy()\n",
    "\n",
    "cat_oe.info()"
   ]
  },
  {
   "cell_type": "code",
   "execution_count": 10,
   "id": "ab04c5b4c7c8d5d7",
   "metadata": {
    "ExecuteTime": {
     "end_time": "2025-05-15T18:30:43.517570Z",
     "start_time": "2025-05-15T18:30:43.513208Z"
    }
   },
   "outputs": [
    {
     "name": "stdout",
     "output_type": "stream",
     "text": [
      "<class 'pandas.core.frame.DataFrame'>\n",
      "RangeIndex: 9529 entries, 0 to 9528\n",
      "Data columns (total 2 columns):\n",
      " #   Column          Non-Null Count  Dtype \n",
      "---  ------          --------------  ----- \n",
      " 0   RutaReparto     9529 non-null   object\n",
      " 1   EsquemaReparto  9529 non-null   object\n",
      "dtypes: object(2)\n",
      "memory usage: 149.0+ KB\n"
     ]
    }
   ],
   "source": [
    "cat_rep = cat_rep[['RutaReparto','EsquemaReparto']].copy()\n",
    "\n",
    "cat_rep.info()"
   ]
  },
  {
   "cell_type": "code",
   "execution_count": 11,
   "id": "8e06989a0ab59a06",
   "metadata": {
    "ExecuteTime": {
     "end_time": "2025-05-15T18:30:43.536758Z",
     "start_time": "2025-05-15T18:30:43.534746Z"
    }
   },
   "outputs": [
    {
     "name": "stdout",
     "output_type": "stream",
     "text": [
      "['ID_SAP', 'CLIENTE', 'FECHA_ALTA', 'DIRECCIÓN', 'ENTRE_CALLE_1', 'ENTRE_CALLE_2', 'COLONIA', 'DELEGACION_MUNICIPIO', 'CODIGO_POSTAL', 'ESTATUS', 'ID_VP', 'MODALIDAD', 'GEC_SAP', 'GEC_RTM', '_MADUREZ_CTE', 'Estatus_Cte', 'CADENA', 'DESC_CADENA', 'CANAL_KOF', 'CANAL_SAP', 'GRUPO_RM1', 'GRUPO_RM2', 'ZONA', 'REGIÓN', 'REGIÓN_KOF_CVE', 'UO', 'CENTRO', 'GERENCIA', 'JEFATURA', 'CENTRO_SUMINISTRO', 'CONDICIÓN_EXPEDICIÓN', 'TIPO_SERVICIO', 'ID_MULTICENTRO', 'Ruta ZPV', 'Fv ZPV', 'Ritmo ZPV', 'Método_venta ZPV', 'Ruta ZTK', 'Fv ZTK', 'Ritmo ZTK', 'Método_venta ZTK', 'Ruta ZJV', 'Fv ZJV', 'Ritmo ZJV', 'Método_venta ZJV', 'Ruta ZTV', 'Fv ZTV', 'Ritmo ZTV', 'Método_venta ZTV', 'Ruta ZGH', 'Fv ZGH', 'Ritmo ZGH', 'Método_venta ZGH', 'Ruta ZGC', 'Fv ZGC', 'Ritmo ZGC', 'Método_venta ZGC', 'Ruta ZED', 'Fv ZED', 'Ritmo ZED', 'Método_venta ZED', 'Ruta ZIV', 'Fv ZIV', 'Ritmo ZIV', 'Método_venta ZIV', 'Ruta ZDD', 'Fv ZDD', 'Ritmo ZDD', 'Método_venta ZDD', 'Ruta ZGC', 'Fv ZGC', 'Ritmo ZGC', 'Método_venta ZGC', 'Ruta ZTF', 'Fv ZTF', 'Ritmo ZTF', 'Método_venta ZTF', 'Ruta ZVE', 'Fv ZVE', 'Ritmo ZVE', 'Método_venta ZVE', 'Ruta ZVS', 'Fv ZVS', 'Ritmo ZVS', 'Método_venta ZVS', 'Ruta ZDY', 'Fv ZDY', 'Ritmo ZDY', 'Método_venta ZDY', 'Ruta ZGG', 'Fv ZGG', 'Ritmo ZGG', 'Método_venta ZGG', 'Latitud Final', 'Longitud Final']\n"
     ]
    }
   ],
   "source": [
    "def merge_por_order_entry(left_df, right_df, claves_left, clave_right='Ruta'):\n",
    "    resultado = left_df.copy()\n",
    "    merged_cols = [col for col in right_df.columns if col != clave_right]\n",
    "    resultado[merged_cols] = None  # Inicializa columnas vacías\n",
    "\n",
    "    sin_match = pd.Series([True] * len(resultado))\n",
    "\n",
    "    for clave in claves_left:\n",
    "        temp_merge = left_df[sin_match].merge(right_df, left_on=clave, right_on=clave_right, how='left')\n",
    "        for col in merged_cols:\n",
    "            resultado.loc[sin_match, col] = temp_merge[col].values\n",
    "        sin_match = resultado[merged_cols[0]].isna()  # puedes mejorar esto si quieres validar múltiples columnas\n",
    "\n",
    "    return resultado\n",
    "\n",
    "print(df_coordenadas.columns.tolist())"
   ]
  },
  {
   "cell_type": "code",
   "execution_count": 12,
   "id": "d522806f6551fb12",
   "metadata": {
    "ExecuteTime": {
     "end_time": "2025-05-15T18:30:43.567482Z",
     "start_time": "2025-05-15T18:30:43.553671Z"
    }
   },
   "outputs": [
    {
     "name": "stdout",
     "output_type": "stream",
     "text": [
      "         ID_SAP                        CLIENTE  FECHA_ALTA  \\\n",
      "2863  620286657       FRACCIONAMIENTO MAGNOLIA  16.07.2024   \n",
      "2029  620086988     BASILIO HERNANDEZ GONZALEZ  01.11.2014   \n",
      "2261  603500727        ANGELINA PATLAN RAMIREZ  10.11.1999   \n",
      "2489  620252461  F A QUERETARO FORANEAS SAN LU  30.03.2023   \n",
      "328   610158542                CAFE EL VIAJERO  17.02.2011   \n",
      "\n",
      "                      DIRECCIÓN       ENTRE_CALLE_1          ENTRE_CALLE_2  \\\n",
      "2863     CARR DOLORES HGO KM 11  A PIE DE CARRETERA                     SC   \n",
      "2029          VELAZCO IBARRA 10              SABINO        IGNACIO ALLENDE   \n",
      "2261  AVENIDA INDEPENDENCIA 144          LT DOLORES  CALLE FCO JAVIER MINA   \n",
      "2489                GALEANA 430                  SN                     SN   \n",
      "328                 PILA SECA 1    HERNANDEZ MACIAS              ZACATEROS   \n",
      "\n",
      "                        COLONIA    DELEGACION_MUNICIPIO  CODIGO_POSTAL  \\\n",
      "2863             MIGUEL HIDALGO   SAN MIGUEL DE ALLENDE          37713   \n",
      "2029                  LA HUERTA   SAN MIGUEL DE ALLENDE          37880   \n",
      "2261              INDEPENDENCIA   SAN MIGUEL DE ALLENDE          37732   \n",
      "2489  SAN LUIS DE LA PAZ CENTRO      SAN LUIS DE LA PAZ          37900   \n",
      "328                      CENTRO   SAN MIGUEL DE ALLENDE          37700   \n",
      "\n",
      "     ESTATUS  ... Ritmo ZDY Método_venta ZDY Ruta ZGG Fv ZGG Ritmo ZGG  \\\n",
      "2863       A  ...       1.0              1DA        -      -         -   \n",
      "2029       A  ...         -                -        -      -         -   \n",
      "2261       A  ...         -                -        -      -         -   \n",
      "2489       A  ...         -                -        -      -         -   \n",
      "328        A  ...         -                -        -      -         -   \n",
      "\n",
      "     Método_venta ZGG  Latitud Final Longitud Final   Tipo  \\\n",
      "2863                -      21.154522    -100.935779    NaN   \n",
      "2029                -      20.820644    -100.828158     PR   \n",
      "2261                -      20.929561    -100.754730     PR   \n",
      "2489                -      21.298169    -100.517079  PRTDC   \n",
      "328                 -      20.912728    -100.745182   PCOP   \n",
      "\n",
      "                   Descripción Tipo  \n",
      "2863                            NaN  \n",
      "2029             Preventa Comercial  \n",
      "2261             Preventa Comercial  \n",
      "2489     Preventa Especializada TDC  \n",
      "328   Preventa Comercial On Premise  \n",
      "\n",
      "[5 rows x 97 columns]\n"
     ]
    }
   ],
   "source": [
    "df_match_oe = merge_por_order_entry(df_coordenadas, cat_oe, ['Ruta ZPV', 'Ruta ZIV', 'Ruta ZED'])\n",
    "\n",
    "print(df_match_oe.sample(5))"
   ]
  },
  {
   "cell_type": "code",
   "execution_count": 13,
   "id": "46ea5a1c41c08787",
   "metadata": {
    "ExecuteTime": {
     "end_time": "2025-05-15T18:30:43.586983Z",
     "start_time": "2025-05-15T18:30:43.585037Z"
    }
   },
   "outputs": [],
   "source": [
    "def merge_por_reparto(left_df, right_df, claves_left, clave_right='RutaReparto'):\n",
    "    resultado = left_df.copy()\n",
    "    merged_cols = [col for col in right_df.columns if col != clave_right]\n",
    "    resultado[merged_cols] = None  # Inicializa columnas vacías\n",
    "\n",
    "    sin_match = pd.Series([True] * len(resultado))\n",
    "\n",
    "    for clave in claves_left:\n",
    "        temp_merge = left_df[sin_match].merge(right_df, left_on=clave, right_on=clave_right, how='left')\n",
    "        for col in merged_cols:\n",
    "            resultado.loc[sin_match, col] = temp_merge[col].values\n",
    "        sin_match = resultado[merged_cols[0]].isna()  # puedes mejorar esto si quieres validar múltiples columnas\n",
    "\n",
    "    return resultado"
   ]
  },
  {
   "cell_type": "code",
   "execution_count": 14,
   "id": "de76e5184c5a7b41",
   "metadata": {
    "ExecuteTime": {
     "end_time": "2025-05-15T18:30:43.622434Z",
     "start_time": "2025-05-15T18:30:43.603761Z"
    }
   },
   "outputs": [
    {
     "name": "stdout",
     "output_type": "stream",
     "text": [
      "         ID_SAP                  CLIENTE  FECHA_ALTA           DIRECCIÓN  \\\n",
      "1283  620171298                 CASA 100  27.02.2019    CALLE RECREO 100   \n",
      "1313  620233727         LONCHERIA EL UNO  11.03.2022     CALLE COLEGIO 1   \n",
      "1609  603502069  FEDERICO SANCHEZ CADENA  17.06.2000  PRIVADA LAURELES 3   \n",
      "2643  620165966     MEGAFRESH MARAVILLAS  06.11.2018       MARAVILLAS SN   \n",
      "1059  603501010         ABARROTES RAQUEL  12.11.1999         PURISIMA 21   \n",
      "\n",
      "                ENTRE_CALLE_1                  ENTRE_CALLE_2  \\\n",
      "1283             CALLE CHORRO  CALLE CAÑADA DE LOS AGUACATES   \n",
      "1313   CALLE PUENTE DE UMARAN                  CALLE OMOBONO   \n",
      "1609              AV LAURELES               CARR A RODRIGUEZ   \n",
      "2643  CARR FEDERAL 57 SLP QRO       CARR SLP DOLORES HIDALGO   \n",
      "1059            CALZ RIO NILO                   CALZ ESTCION   \n",
      "\n",
      "                           COLONIA    DELEGACION_MUNICIPIO  CODIGO_POSTAL  \\\n",
      "1283  SAN MIGUEL DE ALLENDE CENTRO   SAN MIGUEL DE ALLENDE          37700   \n",
      "1313  SAN MIGUEL DE ALLENDE CENTRO   SAN MIGUEL DE ALLENDE          37700   \n",
      "1609        EJIDO  PALMITA DE LAND   SAN MIGUEL DE ALLENDE          37700   \n",
      "2643                    MARAVILLAS      SAN LUIS DE LA PAZ          37900   \n",
      "1059                   SAN ANTONIO   SAN MIGUEL DE ALLENDE          37750   \n",
      "\n",
      "     ESTATUS  ... Método_venta ZDY Ruta ZGG Fv ZGG Ritmo ZGG Método_venta ZGG  \\\n",
      "1283       A  ...                -        -      -         -                -   \n",
      "1313       A  ...                -        -      -         -                -   \n",
      "1609       A  ...                -        -      -         -                -   \n",
      "2643       A  ...              1DA        -      -         -                -   \n",
      "1059       A  ...                -        -      -         -                -   \n",
      "\n",
      "     Latitud Final  Longitud Final  Tipo               Descripción Tipo  \\\n",
      "1283     20.909433     -100.741754  PCOP  Preventa Comercial On Premise   \n",
      "1313     20.916292     -100.741235  PCOP  Preventa Comercial On Premise   \n",
      "1609     20.916999     -100.702808    PR             Preventa Comercial   \n",
      "2643     21.085228     -101.628159   NaN                            NaN   \n",
      "1059     20.913013     -100.754763    PR             Preventa Comercial   \n",
      "\n",
      "     EsquemaReparto  \n",
      "1283    Tradicional  \n",
      "1313    Tradicional  \n",
      "1609    Tradicional  \n",
      "2643        Vending  \n",
      "1059    Tradicional  \n",
      "\n",
      "[5 rows x 98 columns]\n"
     ]
    }
   ],
   "source": [
    "df_match_reparto = merge_por_reparto(df_match_oe, cat_rep, ['Ruta ZDD', 'Ruta ZVE'])\n",
    "\n",
    "print(df_match_reparto.sample(5))"
   ]
  },
  {
   "cell_type": "code",
   "execution_count": 15,
   "id": "103a2ff0ba2530fb",
   "metadata": {
    "ExecuteTime": {
     "end_time": "2025-05-15T18:30:43.727218Z",
     "start_time": "2025-05-15T18:30:43.640646Z"
    }
   },
   "outputs": [],
   "source": [
    "df_biblia_full = df_match_reparto\n",
    "\n",
    "df_biblia_full.to_csv('Planner_Biblia_{}.csv'.format(UO), index=False, encoding='utf-8-sig')"
   ]
  },
  {
   "cell_type": "code",
   "execution_count": 16,
   "id": "da6a45a00beb971d",
   "metadata": {
    "ExecuteTime": {
     "end_time": "2025-05-15T18:30:43.823997Z",
     "start_time": "2025-05-15T18:30:43.745403Z"
    }
   },
   "outputs": [
    {
     "name": "stdout",
     "output_type": "stream",
     "text": [
      "         ID_SAP              CLIENTE  FECHA_ALTA                    DIRECCIÓN  \\\n",
      "760   620239669       POLLERIA VICKY  16.07.2022     CALLE VICENTE GELATTI 50   \n",
      "2140  620220722   CATALINA LARA MAYA  25.06.2021              CALLE VIVERO 20   \n",
      "2284  603504168    ABARROTES AGUILAR  31.05.2005  SANTA TERESITA LOT 6 MZN 27   \n",
      "747   620207275  ABARROTES EL PUENTE  18.11.2020               CALLE PIPILA 1   \n",
      "2122  620206421       ABARROTES MANE  30.10.2020            CALLE ALLENDE 119   \n",
      "\n",
      "               ENTRE_CALLE_1           ENTRE_CALLE_2               COLONIA  \\\n",
      "760    CALLE VICENTE GELATTI          CALLE SAN LUIS          SAN LUIS REY   \n",
      "2140           CALLE PANTEON        CALLE LAS FLORES       CRUZ DEL PALMAR   \n",
      "2284                      SN              AV CENTRAL  SANTA CRUZ DE LA PAZ   \n",
      "747     CALLE MIGUEL HIDALGO  CALLE DORADOS DE VILLA       FRANCISCO VILLA   \n",
      "2122  CALLE VICENTE GUERRERO           CALLE ALLENDE      AGUSTIN GONZALEZ   \n",
      "\n",
      "        DELEGACION_MUNICIPIO  CODIGO_POSTAL ESTATUS  ... Método_venta ZDY  \\\n",
      "760    SAN MIGUEL DE ALLENDE          37727       A  ...                -   \n",
      "2140   SAN MIGUEL DE ALLENDE          37883       A  ...                -   \n",
      "2284   SAN MIGUEL DE ALLENDE          37750       A  ...                -   \n",
      "747    SAN MIGUEL DE ALLENDE          37728       A  ...                -   \n",
      "2122   SAN MIGUEL DE ALLENDE          37740       A  ...                -   \n",
      "\n",
      "     Ruta ZGG Fv ZGG Ritmo ZGG Método_venta ZGG Latitud Final  Longitud Final  \\\n",
      "760         -      -         -                -     20.935513     -100.735838   \n",
      "2140        -      -         -                -     20.966143     -100.845818   \n",
      "2284        -      -         -                -     20.927978     -100.757425   \n",
      "747         -      -         -                -     20.938014     -100.733773   \n",
      "2122        -      -         -                -     20.858013     -100.852704   \n",
      "\n",
      "     Tipo    Descripción Tipo EsquemaReparto  \n",
      "760    PR  Preventa Comercial    Tradicional  \n",
      "2140   PR  Preventa Comercial    Tradicional  \n",
      "2284   PR  Preventa Comercial    Tradicional  \n",
      "747    PR  Preventa Comercial    Tradicional  \n",
      "2122   PR  Preventa Comercial    Tradicional  \n",
      "\n",
      "[5 rows x 98 columns]\n"
     ]
    }
   ],
   "source": [
    "\n",
    "df_biblia_tradicional = df_biblia_full[df_biblia_full['Tipo'].isin(['PR', 'PCOP', 'PROP'])]\n",
    "\n",
    "print(df_biblia_tradicional.sample(5))\n",
    "\n",
    "df_biblia_tradicional.to_csv('Planner_Biblia_Tradicional_{}.csv'.format(UO), index=False, encoding='utf-8-sig')"
   ]
  },
  {
   "cell_type": "code",
   "execution_count": 17,
   "id": "1adab318d0f944d3",
   "metadata": {
    "ExecuteTime": {
     "end_time": "2025-05-15T18:30:43.846200Z",
     "start_time": "2025-05-15T18:30:43.840901Z"
    }
   },
   "outputs": [
    {
     "name": "stdout",
     "output_type": "stream",
     "text": [
      "Empty DataFrame\n",
      "Columns: [ID_VP, RUTA, ID_SAP]\n",
      "Index: []\n"
     ]
    }
   ],
   "source": [
    "df_vp_report = planner.pivot_table(index=['ID_VP','RUTA'], values='ID_SAP', aggfunc='count')\n",
    "\n",
    "df_vp_report = df_vp_report.reset_index()\n",
    "\n",
    "df_vp_report['ID_VP'] = df_vp_report['ID_VP'].astype(str)\n",
    "\n",
    "print(df_vp_report[df_vp_report['ID_SAP']>500])"
   ]
  },
  {
   "cell_type": "code",
   "execution_count": null,
   "id": "46cceed6c3a63daf",
   "metadata": {
    "ExecuteTime": {
     "end_time": "2025-05-15T18:30:43.863889Z",
     "start_time": "2025-05-15T18:30:43.862777Z"
    }
   },
   "outputs": [],
   "source": []
  }
 ],
 "metadata": {
  "kernelspec": {
   "display_name": "Python 3 (ipykernel)",
   "language": "python",
   "name": "python3"
  },
  "language_info": {
   "codemirror_mode": {
    "name": "ipython",
    "version": 3
   },
   "file_extension": ".py",
   "mimetype": "text/x-python",
   "name": "python",
   "nbconvert_exporter": "python",
   "pygments_lexer": "ipython3",
   "version": "3.12.10"
  }
 },
 "nbformat": 4,
 "nbformat_minor": 5
}
